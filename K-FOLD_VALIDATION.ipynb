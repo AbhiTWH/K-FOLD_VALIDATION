{
 "cells": [
  {
   "cell_type": "raw",
   "id": "c18e68c7-2795-451c-b4b7-59e3adc8bf5e",
   "metadata": {},
   "source": [
    "K - FOLD CROSS VALIDATION"
   ]
  },
  {
   "cell_type": "code",
   "execution_count": 1,
   "id": "ea438e44-40c2-4fee-89ef-97c401dd8907",
   "metadata": {},
   "outputs": [],
   "source": [
    "from sklearn.datasets import load_iris\n",
    "from sklearn.model_selection import cross_val_score\n",
    "from sklearn.linear_model import LogisticRegression\n",
    "from sklearn.tree import DecisionTreeClassifier\n",
    "from sklearn.svm import SVC\n",
    "from sklearn.ensemble import RandomForestClassifier\n",
    "import numpy as np"
   ]
  },
  {
   "cell_type": "code",
   "execution_count": 12,
   "id": "4b828426-3430-4a88-b41a-0991a60a43f9",
   "metadata": {},
   "outputs": [],
   "source": [
    "iris=load_iris()"
   ]
  },
  {
   "cell_type": "code",
   "execution_count": 13,
   "id": "f0b5070a-c77e-4f85-b06c-f2dae3605269",
   "metadata": {},
   "outputs": [
    {
     "data": {
      "text/plain": [
       "['DESCR',\n",
       " 'data',\n",
       " 'data_module',\n",
       " 'feature_names',\n",
       " 'filename',\n",
       " 'frame',\n",
       " 'target',\n",
       " 'target_names']"
      ]
     },
     "execution_count": 13,
     "metadata": {},
     "output_type": "execute_result"
    }
   ],
   "source": [
    "dir(iris)"
   ]
  },
  {
   "cell_type": "markdown",
   "id": "7eb61641-7467-4259-9e96-1a623b7a75c7",
   "metadata": {},
   "source": [
    "LogisticRegression"
   ]
  },
  {
   "cell_type": "code",
   "execution_count": 14,
   "id": "b2b518e2-8057-4180-b18e-833190ec999b",
   "metadata": {},
   "outputs": [
    {
     "name": "stderr",
     "output_type": "stream",
     "text": [
      "C:\\ProgramData\\anaconda3\\Lib\\site-packages\\sklearn\\linear_model\\_logistic.py:469: ConvergenceWarning: lbfgs failed to converge (status=1):\n",
      "STOP: TOTAL NO. of ITERATIONS REACHED LIMIT.\n",
      "\n",
      "Increase the number of iterations (max_iter) or scale the data as shown in:\n",
      "    https://scikit-learn.org/stable/modules/preprocessing.html\n",
      "Please also refer to the documentation for alternative solver options:\n",
      "    https://scikit-learn.org/stable/modules/linear_model.html#logistic-regression\n",
      "  n_iter_i = _check_optimize_result(\n"
     ]
    },
    {
     "data": {
      "text/plain": [
       "array([0.96666667, 1.        , 0.93333333, 0.96666667, 1.        ])"
      ]
     },
     "execution_count": 14,
     "metadata": {},
     "output_type": "execute_result"
    }
   ],
   "source": [
    "Logistic_score=cross_val_score(LogisticRegression(),iris.data,iris.target)\n",
    "Logistic_score"
   ]
  },
  {
   "cell_type": "code",
   "execution_count": 15,
   "id": "8923b50b-64ab-43cf-a4c0-f27aa0003256",
   "metadata": {},
   "outputs": [
    {
     "data": {
      "text/plain": [
       "0.9733333333333334"
      ]
     },
     "execution_count": 15,
     "metadata": {},
     "output_type": "execute_result"
    }
   ],
   "source": [
    "np.average(Logistic_score)"
   ]
  },
  {
   "cell_type": "markdown",
   "id": "3c58f2f3-f5b3-4aec-a6f7-8c133af61e3c",
   "metadata": {},
   "source": [
    "Decision tree"
   ]
  },
  {
   "cell_type": "code",
   "execution_count": 16,
   "id": "004bf581-343c-44ff-be40-1c8bdf3e9481",
   "metadata": {},
   "outputs": [
    {
     "data": {
      "text/plain": [
       "array([0.96666667, 0.96666667, 0.9       , 0.96666667, 1.        ])"
      ]
     },
     "execution_count": 16,
     "metadata": {},
     "output_type": "execute_result"
    }
   ],
   "source": [
    "Decision_tree=cross_val_score(DecisionTreeClassifier(),iris.data,iris.target)\n",
    "Decision_tree"
   ]
  },
  {
   "cell_type": "code",
   "execution_count": 17,
   "id": "b922c2a6-9ffa-4b59-b1f8-3a1eb2c65307",
   "metadata": {},
   "outputs": [
    {
     "data": {
      "text/plain": [
       "0.9600000000000002"
      ]
     },
     "execution_count": 17,
     "metadata": {},
     "output_type": "execute_result"
    }
   ],
   "source": [
    "np.average(Decision_tree)"
   ]
  },
  {
   "cell_type": "markdown",
   "id": "1951c74e-b8e1-49d2-8e0c-c586f4645582",
   "metadata": {},
   "source": [
    "Svm"
   ]
  },
  {
   "cell_type": "code",
   "execution_count": 18,
   "id": "85908c2a-ce0e-4396-a228-5a286b747ee0",
   "metadata": {},
   "outputs": [
    {
     "data": {
      "text/plain": [
       "array([0.96666667, 0.96666667, 0.96666667, 0.93333333, 1.        ])"
      ]
     },
     "execution_count": 18,
     "metadata": {},
     "output_type": "execute_result"
    }
   ],
   "source": [
    "svm=cross_val_score(SVC(),iris.data,iris.target)\n",
    "svm"
   ]
  },
  {
   "cell_type": "code",
   "execution_count": 19,
   "id": "1fa4bd4b-8a37-4437-80bc-c5470a926e2b",
   "metadata": {},
   "outputs": [
    {
     "data": {
      "text/plain": [
       "0.9666666666666666"
      ]
     },
     "execution_count": 19,
     "metadata": {},
     "output_type": "execute_result"
    }
   ],
   "source": [
    "np.average(svm)"
   ]
  },
  {
   "cell_type": "markdown",
   "id": "a0b28c3c-1a1d-4c8f-89ea-200227664e53",
   "metadata": {},
   "source": [
    "Random Forest"
   ]
  },
  {
   "cell_type": "code",
   "execution_count": 20,
   "id": "e0e3127e-ce2f-49d9-a90c-7ede8a114f84",
   "metadata": {},
   "outputs": [
    {
     "data": {
      "text/plain": [
       "array([0.96666667, 0.96666667, 0.93333333, 0.96666667, 1.        ])"
      ]
     },
     "execution_count": 20,
     "metadata": {},
     "output_type": "execute_result"
    }
   ],
   "source": [
    "Random_score=cross_val_score(RandomForestClassifier(),iris.data,iris.target)\n",
    "Random_score"
   ]
  },
  {
   "cell_type": "code",
   "execution_count": 21,
   "id": "89359528-4d4b-4def-8a30-36bcdcac223a",
   "metadata": {},
   "outputs": [
    {
     "data": {
      "text/plain": [
       "0.9666666666666668"
      ]
     },
     "execution_count": 21,
     "metadata": {},
     "output_type": "execute_result"
    }
   ],
   "source": [
    "np.average(Random_score)"
   ]
  },
  {
   "cell_type": "code",
   "execution_count": null,
   "id": "1c8496d1-3ebd-49a7-81e3-beb5b017c4e9",
   "metadata": {},
   "outputs": [],
   "source": []
  },
  {
   "cell_type": "code",
   "execution_count": null,
   "id": "e3fb5a48-bd5e-4414-a4d7-6d76b23a7e7f",
   "metadata": {},
   "outputs": [],
   "source": []
  }
 ],
 "metadata": {
  "kernelspec": {
   "display_name": "Python 3 (ipykernel)",
   "language": "python",
   "name": "python3"
  },
  "language_info": {
   "codemirror_mode": {
    "name": "ipython",
    "version": 3
   },
   "file_extension": ".py",
   "mimetype": "text/x-python",
   "name": "python",
   "nbconvert_exporter": "python",
   "pygments_lexer": "ipython3",
   "version": "3.12.4"
  }
 },
 "nbformat": 4,
 "nbformat_minor": 5
}
